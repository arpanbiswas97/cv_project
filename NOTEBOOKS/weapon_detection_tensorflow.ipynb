{
  "nbformat": 4,
  "nbformat_minor": 0,
  "metadata": {
    "colab": {
      "name": "weapon_detection_tensorflow.ipynb",
      "provenance": [],
      "collapsed_sections": []
    },
    "kernelspec": {
      "name": "python3",
      "display_name": "Python 3"
    },
    "language_info": {
      "name": "python"
    },
    "accelerator": "GPU"
  },
  "cells": [
    {
      "cell_type": "code",
      "execution_count": null,
      "metadata": {
        "colab": {
          "base_uri": "https://localhost:8080/"
        },
        "id": "tq42KOwROdfW",
        "outputId": "09b9e1bb-2b86-4e46-8c22-a7e1cbc43ed9"
      },
      "outputs": [
        {
          "output_type": "stream",
          "name": "stdout",
          "text": [
            "Mounted at /content/drive\n"
          ]
        }
      ],
      "source": [
        "from google.colab import drive\n",
        "drive.mount('/content/drive')"
      ]
    },
    {
      "cell_type": "markdown",
      "source": [
        "## Convert to tensorflow model"
      ],
      "metadata": {
        "id": "-6Q50gpVycLE"
      }
    },
    {
      "cell_type": "code",
      "source": [
        "!git clone https://github.com/theAIGuysCode/tensorflow-yolov4-tflite.git"
      ],
      "metadata": {
        "colab": {
          "base_uri": "https://localhost:8080/"
        },
        "id": "XX9wXBn4pyPO",
        "outputId": "291baaef-39d7-460d-b2c4-fc665863f61d"
      },
      "execution_count": null,
      "outputs": [
        {
          "output_type": "stream",
          "name": "stdout",
          "text": [
            "Cloning into 'tensorflow-yolov4-tflite'...\n",
            "remote: Enumerating objects: 912, done.\u001b[K\n",
            "remote: Total 912 (delta 0), reused 0 (delta 0), pack-reused 912\u001b[K\n",
            "Receiving objects: 100% (912/912), 211.46 MiB | 26.45 MiB/s, done.\n",
            "Resolving deltas: 100% (441/441), done.\n"
          ]
        }
      ]
    },
    {
      "cell_type": "code",
      "source": [
        "%cd tensorflow-yolov4-tflite/"
      ],
      "metadata": {
        "colab": {
          "base_uri": "https://localhost:8080/"
        },
        "id": "GT1x88WL7LVb",
        "outputId": "c1a90d63-4a23-4ff7-8503-62c3b96257b0"
      },
      "execution_count": null,
      "outputs": [
        {
          "output_type": "stream",
          "name": "stdout",
          "text": [
            "/content/tensorflow-yolov4-tflite\n"
          ]
        }
      ]
    },
    {
      "cell_type": "code",
      "source": [
        "!cp /content/drive/MyDrive/yolov4_colab/yolov4-tiny_best.weights ./data/\n",
        "!cp /content/drive/MyDrive/yolov4_colab/obj.names ./data/classes/"
      ],
      "metadata": {
        "id": "F68Q9bkD7Pex"
      },
      "execution_count": null,
      "outputs": []
    },
    {
      "cell_type": "code",
      "source": [
        "!sed -i 's/coco.names/obj.names/' core/config.py\n",
        "!sed -i 's/tensorflow-gpu==2.3.0rc0/tensorflow-gpu==2.3.0/' requirements-gpu.txt"
      ],
      "metadata": {
        "id": "ubQqDLpX8Wrn"
      },
      "execution_count": null,
      "outputs": []
    },
    {
      "cell_type": "code",
      "source": [
        "!pip install -r requirements-gpu.txt"
      ],
      "metadata": {
        "id": "GYRjv9pQp2im"
      },
      "execution_count": null,
      "outputs": []
    },
    {
      "cell_type": "code",
      "source": [
        "!python save_model.py --weights ./data/yolov4-tiny_best.weights --output ./checkpoints/yolov4-tiny-416 --input_size 416 --model yolov4 --tiny"
      ],
      "metadata": {
        "colab": {
          "base_uri": "https://localhost:8080/"
        },
        "id": "fA7ZuTKvrhfh",
        "outputId": "f2c7ca9f-0ae8-4c8f-e05c-183788ea3814"
      },
      "execution_count": null,
      "outputs": [
        {
          "output_type": "stream",
          "name": "stdout",
          "text": [
            "2022-05-03 08:06:37.100001: I tensorflow/stream_executor/platform/default/dso_loader.cc:48] Successfully opened dynamic library libcudart.so.10.1\n",
            "2022-05-03 08:06:38.815130: I tensorflow/stream_executor/platform/default/dso_loader.cc:48] Successfully opened dynamic library libcuda.so.1\n",
            "2022-05-03 08:06:38.880915: I tensorflow/stream_executor/cuda/cuda_gpu_executor.cc:982] successful NUMA node read from SysFS had negative value (-1), but there must be at least one NUMA node, so returning NUMA node zero\n",
            "2022-05-03 08:06:38.881694: I tensorflow/core/common_runtime/gpu/gpu_device.cc:1716] Found device 0 with properties: \n",
            "pciBusID: 0000:00:04.0 name: Tesla K80 computeCapability: 3.7\n",
            "coreClock: 0.8235GHz coreCount: 13 deviceMemorySize: 11.17GiB deviceMemoryBandwidth: 223.96GiB/s\n",
            "2022-05-03 08:06:38.881750: I tensorflow/stream_executor/platform/default/dso_loader.cc:48] Successfully opened dynamic library libcudart.so.10.1\n",
            "2022-05-03 08:06:39.062332: I tensorflow/stream_executor/platform/default/dso_loader.cc:48] Successfully opened dynamic library libcublas.so.10\n",
            "2022-05-03 08:06:39.087874: I tensorflow/stream_executor/platform/default/dso_loader.cc:48] Successfully opened dynamic library libcufft.so.10\n",
            "2022-05-03 08:06:39.107336: I tensorflow/stream_executor/platform/default/dso_loader.cc:48] Successfully opened dynamic library libcurand.so.10\n",
            "2022-05-03 08:06:39.382207: I tensorflow/stream_executor/platform/default/dso_loader.cc:48] Successfully opened dynamic library libcusolver.so.10\n",
            "2022-05-03 08:06:39.408590: I tensorflow/stream_executor/platform/default/dso_loader.cc:48] Successfully opened dynamic library libcusparse.so.10\n",
            "2022-05-03 08:06:39.760950: I tensorflow/stream_executor/platform/default/dso_loader.cc:48] Successfully opened dynamic library libcudnn.so.7\n",
            "2022-05-03 08:06:39.761196: I tensorflow/stream_executor/cuda/cuda_gpu_executor.cc:982] successful NUMA node read from SysFS had negative value (-1), but there must be at least one NUMA node, so returning NUMA node zero\n",
            "2022-05-03 08:06:39.762145: I tensorflow/stream_executor/cuda/cuda_gpu_executor.cc:982] successful NUMA node read from SysFS had negative value (-1), but there must be at least one NUMA node, so returning NUMA node zero\n",
            "2022-05-03 08:06:39.762907: I tensorflow/core/common_runtime/gpu/gpu_device.cc:1858] Adding visible gpu devices: 0\n",
            "2022-05-03 08:06:39.763400: I tensorflow/core/platform/cpu_feature_guard.cc:142] This TensorFlow binary is optimized with oneAPI Deep Neural Network Library (oneDNN)to use the following CPU instructions in performance-critical operations:  AVX2 FMA\n",
            "To enable them in other operations, rebuild TensorFlow with the appropriate compiler flags.\n",
            "2022-05-03 08:06:39.769492: I tensorflow/core/platform/profile_utils/cpu_utils.cc:104] CPU Frequency: 2299995000 Hz\n",
            "2022-05-03 08:06:39.769757: I tensorflow/compiler/xla/service/service.cc:168] XLA service 0x159d2c0 initialized for platform Host (this does not guarantee that XLA will be used). Devices:\n",
            "2022-05-03 08:06:39.769797: I tensorflow/compiler/xla/service/service.cc:176]   StreamExecutor device (0): Host, Default Version\n",
            "2022-05-03 08:06:39.903920: I tensorflow/stream_executor/cuda/cuda_gpu_executor.cc:982] successful NUMA node read from SysFS had negative value (-1), but there must be at least one NUMA node, so returning NUMA node zero\n",
            "2022-05-03 08:06:39.904788: I tensorflow/compiler/xla/service/service.cc:168] XLA service 0x159d480 initialized for platform CUDA (this does not guarantee that XLA will be used). Devices:\n",
            "2022-05-03 08:06:39.904840: I tensorflow/compiler/xla/service/service.cc:176]   StreamExecutor device (0): Tesla K80, Compute Capability 3.7\n",
            "2022-05-03 08:06:39.906207: I tensorflow/stream_executor/cuda/cuda_gpu_executor.cc:982] successful NUMA node read from SysFS had negative value (-1), but there must be at least one NUMA node, so returning NUMA node zero\n",
            "2022-05-03 08:06:39.906971: I tensorflow/core/common_runtime/gpu/gpu_device.cc:1716] Found device 0 with properties: \n",
            "pciBusID: 0000:00:04.0 name: Tesla K80 computeCapability: 3.7\n",
            "coreClock: 0.8235GHz coreCount: 13 deviceMemorySize: 11.17GiB deviceMemoryBandwidth: 223.96GiB/s\n",
            "2022-05-03 08:06:39.907043: I tensorflow/stream_executor/platform/default/dso_loader.cc:48] Successfully opened dynamic library libcudart.so.10.1\n",
            "2022-05-03 08:06:39.907113: I tensorflow/stream_executor/platform/default/dso_loader.cc:48] Successfully opened dynamic library libcublas.so.10\n",
            "2022-05-03 08:06:39.907176: I tensorflow/stream_executor/platform/default/dso_loader.cc:48] Successfully opened dynamic library libcufft.so.10\n",
            "2022-05-03 08:06:39.907226: I tensorflow/stream_executor/platform/default/dso_loader.cc:48] Successfully opened dynamic library libcurand.so.10\n",
            "2022-05-03 08:06:39.907273: I tensorflow/stream_executor/platform/default/dso_loader.cc:48] Successfully opened dynamic library libcusolver.so.10\n",
            "2022-05-03 08:06:39.907319: I tensorflow/stream_executor/platform/default/dso_loader.cc:48] Successfully opened dynamic library libcusparse.so.10\n",
            "2022-05-03 08:06:39.907366: I tensorflow/stream_executor/platform/default/dso_loader.cc:48] Successfully opened dynamic library libcudnn.so.7\n",
            "2022-05-03 08:06:39.907466: I tensorflow/stream_executor/cuda/cuda_gpu_executor.cc:982] successful NUMA node read from SysFS had negative value (-1), but there must be at least one NUMA node, so returning NUMA node zero\n",
            "2022-05-03 08:06:39.908238: I tensorflow/stream_executor/cuda/cuda_gpu_executor.cc:982] successful NUMA node read from SysFS had negative value (-1), but there must be at least one NUMA node, so returning NUMA node zero\n",
            "2022-05-03 08:06:39.908982: I tensorflow/core/common_runtime/gpu/gpu_device.cc:1858] Adding visible gpu devices: 0\n",
            "2022-05-03 08:06:39.909041: I tensorflow/stream_executor/platform/default/dso_loader.cc:48] Successfully opened dynamic library libcudart.so.10.1\n",
            "2022-05-03 08:06:40.343665: I tensorflow/core/common_runtime/gpu/gpu_device.cc:1257] Device interconnect StreamExecutor with strength 1 edge matrix:\n",
            "2022-05-03 08:06:40.343739: I tensorflow/core/common_runtime/gpu/gpu_device.cc:1263]      0 \n",
            "2022-05-03 08:06:40.343761: I tensorflow/core/common_runtime/gpu/gpu_device.cc:1276] 0:   N \n",
            "2022-05-03 08:06:40.344167: I tensorflow/stream_executor/cuda/cuda_gpu_executor.cc:982] successful NUMA node read from SysFS had negative value (-1), but there must be at least one NUMA node, so returning NUMA node zero\n",
            "2022-05-03 08:06:40.345010: I tensorflow/stream_executor/cuda/cuda_gpu_executor.cc:982] successful NUMA node read from SysFS had negative value (-1), but there must be at least one NUMA node, so returning NUMA node zero\n",
            "2022-05-03 08:06:40.345728: W tensorflow/core/common_runtime/gpu/gpu_bfc_allocator.cc:39] Overriding allow_growth setting because the TF_FORCE_GPU_ALLOW_GROWTH environment variable is set. Original config value was 0.\n",
            "2022-05-03 08:06:40.345791: I tensorflow/core/common_runtime/gpu/gpu_device.cc:1402] Created TensorFlow device (/job:localhost/replica:0/task:0/device:GPU:0 with 10626 MB memory) -> physical GPU (device: 0, name: Tesla K80, pci bus id: 0000:00:04.0, compute capability: 3.7)\n",
            "Model: \"functional_1\"\n",
            "__________________________________________________________________________________________________\n",
            "Layer (type)                    Output Shape         Param #     Connected to                     \n",
            "==================================================================================================\n",
            "input_1 (InputLayer)            [(None, 416, 416, 3) 0                                            \n",
            "__________________________________________________________________________________________________\n",
            "zero_padding2d (ZeroPadding2D)  (None, 417, 417, 3)  0           input_1[0][0]                    \n",
            "__________________________________________________________________________________________________\n",
            "conv2d (Conv2D)                 (None, 208, 208, 32) 864         zero_padding2d[0][0]             \n",
            "__________________________________________________________________________________________________\n",
            "batch_normalization (BatchNorma (None, 208, 208, 32) 128         conv2d[0][0]                     \n",
            "__________________________________________________________________________________________________\n",
            "tf_op_layer_LeakyRelu (TensorFl [(None, 208, 208, 32 0           batch_normalization[0][0]        \n",
            "__________________________________________________________________________________________________\n",
            "zero_padding2d_1 (ZeroPadding2D (None, 209, 209, 32) 0           tf_op_layer_LeakyRelu[0][0]      \n",
            "__________________________________________________________________________________________________\n",
            "conv2d_1 (Conv2D)               (None, 104, 104, 64) 18432       zero_padding2d_1[0][0]           \n",
            "__________________________________________________________________________________________________\n",
            "batch_normalization_1 (BatchNor (None, 104, 104, 64) 256         conv2d_1[0][0]                   \n",
            "__________________________________________________________________________________________________\n",
            "tf_op_layer_LeakyRelu_1 (Tensor [(None, 104, 104, 64 0           batch_normalization_1[0][0]      \n",
            "__________________________________________________________________________________________________\n",
            "conv2d_2 (Conv2D)               (None, 104, 104, 64) 36864       tf_op_layer_LeakyRelu_1[0][0]    \n",
            "__________________________________________________________________________________________________\n",
            "batch_normalization_2 (BatchNor (None, 104, 104, 64) 256         conv2d_2[0][0]                   \n",
            "__________________________________________________________________________________________________\n",
            "tf_op_layer_LeakyRelu_2 (Tensor [(None, 104, 104, 64 0           batch_normalization_2[0][0]      \n",
            "__________________________________________________________________________________________________\n",
            "tf_op_layer_split (TensorFlowOp [(None, 104, 104, 32 0           tf_op_layer_LeakyRelu_2[0][0]    \n",
            "__________________________________________________________________________________________________\n",
            "conv2d_3 (Conv2D)               (None, 104, 104, 32) 9216        tf_op_layer_split[0][1]          \n",
            "__________________________________________________________________________________________________\n",
            "batch_normalization_3 (BatchNor (None, 104, 104, 32) 128         conv2d_3[0][0]                   \n",
            "__________________________________________________________________________________________________\n",
            "tf_op_layer_LeakyRelu_3 (Tensor [(None, 104, 104, 32 0           batch_normalization_3[0][0]      \n",
            "__________________________________________________________________________________________________\n",
            "conv2d_4 (Conv2D)               (None, 104, 104, 32) 9216        tf_op_layer_LeakyRelu_3[0][0]    \n",
            "__________________________________________________________________________________________________\n",
            "batch_normalization_4 (BatchNor (None, 104, 104, 32) 128         conv2d_4[0][0]                   \n",
            "__________________________________________________________________________________________________\n",
            "tf_op_layer_LeakyRelu_4 (Tensor [(None, 104, 104, 32 0           batch_normalization_4[0][0]      \n",
            "__________________________________________________________________________________________________\n",
            "tf_op_layer_concat (TensorFlowO [(None, 104, 104, 64 0           tf_op_layer_LeakyRelu_4[0][0]    \n",
            "                                                                 tf_op_layer_LeakyRelu_3[0][0]    \n",
            "__________________________________________________________________________________________________\n",
            "conv2d_5 (Conv2D)               (None, 104, 104, 64) 4096        tf_op_layer_concat[0][0]         \n",
            "__________________________________________________________________________________________________\n",
            "batch_normalization_5 (BatchNor (None, 104, 104, 64) 256         conv2d_5[0][0]                   \n",
            "__________________________________________________________________________________________________\n",
            "tf_op_layer_LeakyRelu_5 (Tensor [(None, 104, 104, 64 0           batch_normalization_5[0][0]      \n",
            "__________________________________________________________________________________________________\n",
            "tf_op_layer_concat_1 (TensorFlo [(None, 104, 104, 12 0           tf_op_layer_LeakyRelu_2[0][0]    \n",
            "                                                                 tf_op_layer_LeakyRelu_5[0][0]    \n",
            "__________________________________________________________________________________________________\n",
            "max_pooling2d (MaxPooling2D)    (None, 52, 52, 128)  0           tf_op_layer_concat_1[0][0]       \n",
            "__________________________________________________________________________________________________\n",
            "conv2d_6 (Conv2D)               (None, 52, 52, 128)  147456      max_pooling2d[0][0]              \n",
            "__________________________________________________________________________________________________\n",
            "batch_normalization_6 (BatchNor (None, 52, 52, 128)  512         conv2d_6[0][0]                   \n",
            "__________________________________________________________________________________________________\n",
            "tf_op_layer_LeakyRelu_6 (Tensor [(None, 52, 52, 128) 0           batch_normalization_6[0][0]      \n",
            "__________________________________________________________________________________________________\n",
            "tf_op_layer_split_1 (TensorFlow [(None, 52, 52, 64), 0           tf_op_layer_LeakyRelu_6[0][0]    \n",
            "__________________________________________________________________________________________________\n",
            "conv2d_7 (Conv2D)               (None, 52, 52, 64)   36864       tf_op_layer_split_1[0][1]        \n",
            "__________________________________________________________________________________________________\n",
            "batch_normalization_7 (BatchNor (None, 52, 52, 64)   256         conv2d_7[0][0]                   \n",
            "__________________________________________________________________________________________________\n",
            "tf_op_layer_LeakyRelu_7 (Tensor [(None, 52, 52, 64)] 0           batch_normalization_7[0][0]      \n",
            "__________________________________________________________________________________________________\n",
            "conv2d_8 (Conv2D)               (None, 52, 52, 64)   36864       tf_op_layer_LeakyRelu_7[0][0]    \n",
            "__________________________________________________________________________________________________\n",
            "batch_normalization_8 (BatchNor (None, 52, 52, 64)   256         conv2d_8[0][0]                   \n",
            "__________________________________________________________________________________________________\n",
            "tf_op_layer_LeakyRelu_8 (Tensor [(None, 52, 52, 64)] 0           batch_normalization_8[0][0]      \n",
            "__________________________________________________________________________________________________\n",
            "tf_op_layer_concat_2 (TensorFlo [(None, 52, 52, 128) 0           tf_op_layer_LeakyRelu_8[0][0]    \n",
            "                                                                 tf_op_layer_LeakyRelu_7[0][0]    \n",
            "__________________________________________________________________________________________________\n",
            "conv2d_9 (Conv2D)               (None, 52, 52, 128)  16384       tf_op_layer_concat_2[0][0]       \n",
            "__________________________________________________________________________________________________\n",
            "batch_normalization_9 (BatchNor (None, 52, 52, 128)  512         conv2d_9[0][0]                   \n",
            "__________________________________________________________________________________________________\n",
            "tf_op_layer_LeakyRelu_9 (Tensor [(None, 52, 52, 128) 0           batch_normalization_9[0][0]      \n",
            "__________________________________________________________________________________________________\n",
            "tf_op_layer_concat_3 (TensorFlo [(None, 52, 52, 256) 0           tf_op_layer_LeakyRelu_6[0][0]    \n",
            "                                                                 tf_op_layer_LeakyRelu_9[0][0]    \n",
            "__________________________________________________________________________________________________\n",
            "max_pooling2d_1 (MaxPooling2D)  (None, 26, 26, 256)  0           tf_op_layer_concat_3[0][0]       \n",
            "__________________________________________________________________________________________________\n",
            "conv2d_10 (Conv2D)              (None, 26, 26, 256)  589824      max_pooling2d_1[0][0]            \n",
            "__________________________________________________________________________________________________\n",
            "batch_normalization_10 (BatchNo (None, 26, 26, 256)  1024        conv2d_10[0][0]                  \n",
            "__________________________________________________________________________________________________\n",
            "tf_op_layer_LeakyRelu_10 (Tenso [(None, 26, 26, 256) 0           batch_normalization_10[0][0]     \n",
            "__________________________________________________________________________________________________\n",
            "tf_op_layer_split_2 (TensorFlow [(None, 26, 26, 128) 0           tf_op_layer_LeakyRelu_10[0][0]   \n",
            "__________________________________________________________________________________________________\n",
            "conv2d_11 (Conv2D)              (None, 26, 26, 128)  147456      tf_op_layer_split_2[0][1]        \n",
            "__________________________________________________________________________________________________\n",
            "batch_normalization_11 (BatchNo (None, 26, 26, 128)  512         conv2d_11[0][0]                  \n",
            "__________________________________________________________________________________________________\n",
            "tf_op_layer_LeakyRelu_11 (Tenso [(None, 26, 26, 128) 0           batch_normalization_11[0][0]     \n",
            "__________________________________________________________________________________________________\n",
            "conv2d_12 (Conv2D)              (None, 26, 26, 128)  147456      tf_op_layer_LeakyRelu_11[0][0]   \n",
            "__________________________________________________________________________________________________\n",
            "batch_normalization_12 (BatchNo (None, 26, 26, 128)  512         conv2d_12[0][0]                  \n",
            "__________________________________________________________________________________________________\n",
            "tf_op_layer_LeakyRelu_12 (Tenso [(None, 26, 26, 128) 0           batch_normalization_12[0][0]     \n",
            "__________________________________________________________________________________________________\n",
            "tf_op_layer_concat_4 (TensorFlo [(None, 26, 26, 256) 0           tf_op_layer_LeakyRelu_12[0][0]   \n",
            "                                                                 tf_op_layer_LeakyRelu_11[0][0]   \n",
            "__________________________________________________________________________________________________\n",
            "conv2d_13 (Conv2D)              (None, 26, 26, 256)  65536       tf_op_layer_concat_4[0][0]       \n",
            "__________________________________________________________________________________________________\n",
            "batch_normalization_13 (BatchNo (None, 26, 26, 256)  1024        conv2d_13[0][0]                  \n",
            "__________________________________________________________________________________________________\n",
            "tf_op_layer_LeakyRelu_13 (Tenso [(None, 26, 26, 256) 0           batch_normalization_13[0][0]     \n",
            "__________________________________________________________________________________________________\n",
            "tf_op_layer_concat_5 (TensorFlo [(None, 26, 26, 512) 0           tf_op_layer_LeakyRelu_10[0][0]   \n",
            "                                                                 tf_op_layer_LeakyRelu_13[0][0]   \n",
            "__________________________________________________________________________________________________\n",
            "max_pooling2d_2 (MaxPooling2D)  (None, 13, 13, 512)  0           tf_op_layer_concat_5[0][0]       \n",
            "__________________________________________________________________________________________________\n",
            "conv2d_14 (Conv2D)              (None, 13, 13, 512)  2359296     max_pooling2d_2[0][0]            \n",
            "__________________________________________________________________________________________________\n",
            "batch_normalization_14 (BatchNo (None, 13, 13, 512)  2048        conv2d_14[0][0]                  \n",
            "__________________________________________________________________________________________________\n",
            "tf_op_layer_LeakyRelu_14 (Tenso [(None, 13, 13, 512) 0           batch_normalization_14[0][0]     \n",
            "__________________________________________________________________________________________________\n",
            "conv2d_15 (Conv2D)              (None, 13, 13, 256)  131072      tf_op_layer_LeakyRelu_14[0][0]   \n",
            "__________________________________________________________________________________________________\n",
            "batch_normalization_15 (BatchNo (None, 13, 13, 256)  1024        conv2d_15[0][0]                  \n",
            "__________________________________________________________________________________________________\n",
            "tf_op_layer_LeakyRelu_15 (Tenso [(None, 13, 13, 256) 0           batch_normalization_15[0][0]     \n",
            "__________________________________________________________________________________________________\n",
            "conv2d_18 (Conv2D)              (None, 13, 13, 128)  32768       tf_op_layer_LeakyRelu_15[0][0]   \n",
            "__________________________________________________________________________________________________\n",
            "batch_normalization_17 (BatchNo (None, 13, 13, 128)  512         conv2d_18[0][0]                  \n",
            "__________________________________________________________________________________________________\n",
            "tf_op_layer_LeakyRelu_17 (Tenso [(None, 13, 13, 128) 0           batch_normalization_17[0][0]     \n",
            "__________________________________________________________________________________________________\n",
            "tf_op_layer_ResizeBilinear (Ten [(None, 26, 26, 128) 0           tf_op_layer_LeakyRelu_17[0][0]   \n",
            "__________________________________________________________________________________________________\n",
            "tf_op_layer_concat_6 (TensorFlo [(None, 26, 26, 384) 0           tf_op_layer_ResizeBilinear[0][0] \n",
            "                                                                 tf_op_layer_LeakyRelu_13[0][0]   \n",
            "__________________________________________________________________________________________________\n",
            "conv2d_19 (Conv2D)              (None, 26, 26, 256)  884736      tf_op_layer_concat_6[0][0]       \n",
            "__________________________________________________________________________________________________\n",
            "conv2d_16 (Conv2D)              (None, 13, 13, 512)  1179648     tf_op_layer_LeakyRelu_15[0][0]   \n",
            "__________________________________________________________________________________________________\n",
            "batch_normalization_18 (BatchNo (None, 26, 26, 256)  1024        conv2d_19[0][0]                  \n",
            "__________________________________________________________________________________________________\n",
            "batch_normalization_16 (BatchNo (None, 13, 13, 512)  2048        conv2d_16[0][0]                  \n",
            "__________________________________________________________________________________________________\n",
            "tf_op_layer_LeakyRelu_18 (Tenso [(None, 26, 26, 256) 0           batch_normalization_18[0][0]     \n",
            "__________________________________________________________________________________________________\n",
            "tf_op_layer_LeakyRelu_16 (Tenso [(None, 13, 13, 512) 0           batch_normalization_16[0][0]     \n",
            "__________________________________________________________________________________________________\n",
            "conv2d_20 (Conv2D)              (None, 26, 26, 30)   7710        tf_op_layer_LeakyRelu_18[0][0]   \n",
            "__________________________________________________________________________________________________\n",
            "conv2d_17 (Conv2D)              (None, 13, 13, 30)   15390       tf_op_layer_LeakyRelu_16[0][0]   \n",
            "__________________________________________________________________________________________________\n",
            "tf_op_layer_Shape (TensorFlowOp [(4,)]               0           conv2d_20[0][0]                  \n",
            "__________________________________________________________________________________________________\n",
            "tf_op_layer_Shape_1 (TensorFlow [(4,)]               0           conv2d_17[0][0]                  \n",
            "__________________________________________________________________________________________________\n",
            "tf_op_layer_strided_slice (Tens [()]                 0           tf_op_layer_Shape[0][0]          \n",
            "__________________________________________________________________________________________________\n",
            "tf_op_layer_strided_slice_1 (Te [()]                 0           tf_op_layer_Shape_1[0][0]        \n",
            "__________________________________________________________________________________________________\n",
            "tf_op_layer_Reshape/shape (Tens [(5,)]               0           tf_op_layer_strided_slice[0][0]  \n",
            "__________________________________________________________________________________________________\n",
            "tf_op_layer_Reshape_3/shape (Te [(5,)]               0           tf_op_layer_strided_slice_1[0][0]\n",
            "__________________________________________________________________________________________________\n",
            "tf_op_layer_Reshape (TensorFlow [(None, 26, 26, 3, 1 0           conv2d_20[0][0]                  \n",
            "                                                                 tf_op_layer_Reshape/shape[0][0]  \n",
            "__________________________________________________________________________________________________\n",
            "tf_op_layer_Reshape_3 (TensorFl [(None, 13, 13, 3, 1 0           conv2d_17[0][0]                  \n",
            "                                                                 tf_op_layer_Reshape_3/shape[0][0]\n",
            "__________________________________________________________________________________________________\n",
            "tf_op_layer_split_3 (TensorFlow [(None, 26, 26, 3, 2 0           tf_op_layer_Reshape[0][0]        \n",
            "__________________________________________________________________________________________________\n",
            "tf_op_layer_split_4 (TensorFlow [(None, 13, 13, 3, 2 0           tf_op_layer_Reshape_3[0][0]      \n",
            "__________________________________________________________________________________________________\n",
            "tf_op_layer_Sigmoid (TensorFlow [(None, 26, 26, 3, 2 0           tf_op_layer_split_3[0][0]        \n",
            "__________________________________________________________________________________________________\n",
            "tf_op_layer_Tile/multiples (Ten [(5,)]               0           tf_op_layer_strided_slice[0][0]  \n",
            "__________________________________________________________________________________________________\n",
            "tf_op_layer_Sigmoid_3 (TensorFl [(None, 13, 13, 3, 2 0           tf_op_layer_split_4[0][0]        \n",
            "__________________________________________________________________________________________________\n",
            "tf_op_layer_Tile_1/multiples (T [(5,)]               0           tf_op_layer_strided_slice_1[0][0]\n",
            "__________________________________________________________________________________________________\n",
            "tf_op_layer_Mul (TensorFlowOpLa [(None, 26, 26, 3, 2 0           tf_op_layer_Sigmoid[0][0]        \n",
            "__________________________________________________________________________________________________\n",
            "tf_op_layer_Tile (TensorFlowOpL [(None, 26, 26, 3, 2 0           tf_op_layer_Tile/multiples[0][0] \n",
            "__________________________________________________________________________________________________\n",
            "tf_op_layer_Mul_4 (TensorFlowOp [(None, 13, 13, 3, 2 0           tf_op_layer_Sigmoid_3[0][0]      \n",
            "__________________________________________________________________________________________________\n",
            "tf_op_layer_Tile_1 (TensorFlowO [(None, 13, 13, 3, 2 0           tf_op_layer_Tile_1/multiples[0][0\n",
            "__________________________________________________________________________________________________\n",
            "tf_op_layer_Sub (TensorFlowOpLa [(None, 26, 26, 3, 2 0           tf_op_layer_Mul[0][0]            \n",
            "__________________________________________________________________________________________________\n",
            "tf_op_layer_Cast (TensorFlowOpL [(None, 26, 26, 3, 2 0           tf_op_layer_Tile[0][0]           \n",
            "__________________________________________________________________________________________________\n",
            "tf_op_layer_Sub_1 (TensorFlowOp [(None, 13, 13, 3, 2 0           tf_op_layer_Mul_4[0][0]          \n",
            "__________________________________________________________________________________________________\n",
            "tf_op_layer_Cast_1 (TensorFlowO [(None, 13, 13, 3, 2 0           tf_op_layer_Tile_1[0][0]         \n",
            "__________________________________________________________________________________________________\n",
            "tf_op_layer_AddV2 (TensorFlowOp [(None, 26, 26, 3, 2 0           tf_op_layer_Sub[0][0]            \n",
            "                                                                 tf_op_layer_Cast[0][0]           \n",
            "__________________________________________________________________________________________________\n",
            "tf_op_layer_Exp (TensorFlowOpLa [(None, 26, 26, 3, 2 0           tf_op_layer_split_3[0][1]        \n",
            "__________________________________________________________________________________________________\n",
            "tf_op_layer_AddV2_1 (TensorFlow [(None, 13, 13, 3, 2 0           tf_op_layer_Sub_1[0][0]          \n",
            "                                                                 tf_op_layer_Cast_1[0][0]         \n",
            "__________________________________________________________________________________________________\n",
            "tf_op_layer_Exp_1 (TensorFlowOp [(None, 13, 13, 3, 2 0           tf_op_layer_split_4[0][1]        \n",
            "__________________________________________________________________________________________________\n",
            "tf_op_layer_Mul_1 (TensorFlowOp [(None, 26, 26, 3, 2 0           tf_op_layer_AddV2[0][0]          \n",
            "__________________________________________________________________________________________________\n",
            "tf_op_layer_Mul_2 (TensorFlowOp [(None, 26, 26, 3, 2 0           tf_op_layer_Exp[0][0]            \n",
            "__________________________________________________________________________________________________\n",
            "tf_op_layer_Mul_5 (TensorFlowOp [(None, 13, 13, 3, 2 0           tf_op_layer_AddV2_1[0][0]        \n",
            "__________________________________________________________________________________________________\n",
            "tf_op_layer_Mul_6 (TensorFlowOp [(None, 13, 13, 3, 2 0           tf_op_layer_Exp_1[0][0]          \n",
            "__________________________________________________________________________________________________\n",
            "tf_op_layer_concat_7 (TensorFlo [(None, 26, 26, 3, 4 0           tf_op_layer_Mul_1[0][0]          \n",
            "                                                                 tf_op_layer_Mul_2[0][0]          \n",
            "__________________________________________________________________________________________________\n",
            "tf_op_layer_Reshape_2/shape (Te [(3,)]               0           tf_op_layer_strided_slice[0][0]  \n",
            "__________________________________________________________________________________________________\n",
            "tf_op_layer_concat_8 (TensorFlo [(None, 13, 13, 3, 4 0           tf_op_layer_Mul_5[0][0]          \n",
            "                                                                 tf_op_layer_Mul_6[0][0]          \n",
            "__________________________________________________________________________________________________\n",
            "tf_op_layer_Reshape_5/shape (Te [(3,)]               0           tf_op_layer_strided_slice_1[0][0]\n",
            "__________________________________________________________________________________________________\n",
            "tf_op_layer_Sigmoid_1 (TensorFl [(None, 26, 26, 3, 1 0           tf_op_layer_split_3[0][2]        \n",
            "__________________________________________________________________________________________________\n",
            "tf_op_layer_Sigmoid_2 (TensorFl [(None, 26, 26, 3, 5 0           tf_op_layer_split_3[0][3]        \n",
            "__________________________________________________________________________________________________\n",
            "tf_op_layer_Sigmoid_4 (TensorFl [(None, 13, 13, 3, 1 0           tf_op_layer_split_4[0][2]        \n",
            "__________________________________________________________________________________________________\n",
            "tf_op_layer_Sigmoid_5 (TensorFl [(None, 13, 13, 3, 5 0           tf_op_layer_split_4[0][3]        \n",
            "__________________________________________________________________________________________________\n",
            "tf_op_layer_Reshape_2 (TensorFl [(None, None, 4)]    0           tf_op_layer_concat_7[0][0]       \n",
            "                                                                 tf_op_layer_Reshape_2/shape[0][0]\n",
            "__________________________________________________________________________________________________\n",
            "tf_op_layer_Reshape_5 (TensorFl [(None, None, 4)]    0           tf_op_layer_concat_8[0][0]       \n",
            "                                                                 tf_op_layer_Reshape_5/shape[0][0]\n",
            "__________________________________________________________________________________________________\n",
            "tf_op_layer_Mul_3 (TensorFlowOp [(None, 26, 26, 3, 5 0           tf_op_layer_Sigmoid_1[0][0]      \n",
            "                                                                 tf_op_layer_Sigmoid_2[0][0]      \n",
            "__________________________________________________________________________________________________\n",
            "tf_op_layer_Reshape_1/shape (Te [(3,)]               0           tf_op_layer_strided_slice[0][0]  \n",
            "__________________________________________________________________________________________________\n",
            "tf_op_layer_Mul_7 (TensorFlowOp [(None, 13, 13, 3, 5 0           tf_op_layer_Sigmoid_4[0][0]      \n",
            "                                                                 tf_op_layer_Sigmoid_5[0][0]      \n",
            "__________________________________________________________________________________________________\n",
            "tf_op_layer_Reshape_4/shape (Te [(3,)]               0           tf_op_layer_strided_slice_1[0][0]\n",
            "__________________________________________________________________________________________________\n",
            "tf_op_layer_concat_9 (TensorFlo [(None, None, 4)]    0           tf_op_layer_Reshape_2[0][0]      \n",
            "                                                                 tf_op_layer_Reshape_5[0][0]      \n",
            "__________________________________________________________________________________________________\n",
            "tf_op_layer_Reshape_1 (TensorFl [(None, None, 5)]    0           tf_op_layer_Mul_3[0][0]          \n",
            "                                                                 tf_op_layer_Reshape_1/shape[0][0]\n",
            "__________________________________________________________________________________________________\n",
            "tf_op_layer_Reshape_4 (TensorFl [(None, None, 5)]    0           tf_op_layer_Mul_7[0][0]          \n",
            "                                                                 tf_op_layer_Reshape_4/shape[0][0]\n",
            "__________________________________________________________________________________________________\n",
            "tf_op_layer_Shape_2 (TensorFlow [(3,)]               0           tf_op_layer_concat_9[0][0]       \n",
            "__________________________________________________________________________________________________\n",
            "tf_op_layer_concat_10 (TensorFl [(None, None, 5)]    0           tf_op_layer_Reshape_1[0][0]      \n",
            "                                                                 tf_op_layer_Reshape_4[0][0]      \n",
            "__________________________________________________________________________________________________\n",
            "tf_op_layer_strided_slice_2 (Te [(2,)]               0           tf_op_layer_Shape_2[0][0]        \n",
            "__________________________________________________________________________________________________\n",
            "tf_op_layer_Max (TensorFlowOpLa [(None, None)]       0           tf_op_layer_concat_10[0][0]      \n",
            "__________________________________________________________________________________________________\n",
            "tf_op_layer_Shape_3 (TensorFlow [(3,)]               0           tf_op_layer_concat_9[0][0]       \n",
            "__________________________________________________________________________________________________\n",
            "tf_op_layer_Prod (TensorFlowOpL [()]                 0           tf_op_layer_strided_slice_2[0][0]\n",
            "__________________________________________________________________________________________________\n",
            "tf_op_layer_Shape_4 (TensorFlow [(3,)]               0           tf_op_layer_concat_9[0][0]       \n",
            "__________________________________________________________________________________________________\n",
            "tf_op_layer_GreaterEqual (Tenso [(None, None)]       0           tf_op_layer_Max[0][0]            \n",
            "__________________________________________________________________________________________________\n",
            "tf_op_layer_strided_slice_3 (Te [(0,)]               0           tf_op_layer_Shape_3[0][0]        \n",
            "__________________________________________________________________________________________________\n",
            "tf_op_layer_concat_11/values_1  [(1,)]               0           tf_op_layer_Prod[0][0]           \n",
            "__________________________________________________________________________________________________\n",
            "tf_op_layer_strided_slice_4 (Te [(1,)]               0           tf_op_layer_Shape_4[0][0]        \n",
            "__________________________________________________________________________________________________\n",
            "tf_op_layer_Reshape_7 (TensorFl [(None,)]            0           tf_op_layer_GreaterEqual[0][0]   \n",
            "__________________________________________________________________________________________________\n",
            "tf_op_layer_concat_11 (TensorFl [(2,)]               0           tf_op_layer_strided_slice_3[0][0]\n",
            "                                                                 tf_op_layer_concat_11/values_1[0]\n",
            "                                                                 tf_op_layer_strided_slice_4[0][0]\n",
            "__________________________________________________________________________________________________\n",
            "tf_op_layer_Where (TensorFlowOp [(None, 1)]          0           tf_op_layer_Reshape_7[0][0]      \n",
            "__________________________________________________________________________________________________\n",
            "tf_op_layer_Reshape_6 (TensorFl [(None, 4)]          0           tf_op_layer_concat_9[0][0]       \n",
            "                                                                 tf_op_layer_concat_11[0][0]      \n",
            "__________________________________________________________________________________________________\n",
            "tf_op_layer_Squeeze (TensorFlow [(None,)]            0           tf_op_layer_Where[0][0]          \n",
            "__________________________________________________________________________________________________\n",
            "tf_op_layer_GatherV2 (TensorFlo [(None, 4)]          0           tf_op_layer_Reshape_6[0][0]      \n",
            "                                                                 tf_op_layer_Squeeze[0][0]        \n",
            "__________________________________________________________________________________________________\n",
            "tf_op_layer_Shape_8 (TensorFlow [(3,)]               0           tf_op_layer_concat_10[0][0]      \n",
            "__________________________________________________________________________________________________\n",
            "tf_op_layer_Shape_9 (TensorFlow [(2,)]               0           tf_op_layer_GatherV2[0][0]       \n",
            "__________________________________________________________________________________________________\n",
            "tf_op_layer_Shape_5 (TensorFlow [(3,)]               0           tf_op_layer_concat_10[0][0]      \n",
            "__________________________________________________________________________________________________\n",
            "tf_op_layer_strided_slice_8 (Te [()]                 0           tf_op_layer_Shape_8[0][0]        \n",
            "__________________________________________________________________________________________________\n",
            "tf_op_layer_strided_slice_9 (Te [()]                 0           tf_op_layer_Shape_9[0][0]        \n",
            "__________________________________________________________________________________________________\n",
            "tf_op_layer_strided_slice_5 (Te [(2,)]               0           tf_op_layer_Shape_5[0][0]        \n",
            "__________________________________________________________________________________________________\n",
            "tf_op_layer_Reshape_10/shape (T [(3,)]               0           tf_op_layer_strided_slice_8[0][0]\n",
            "                                                                 tf_op_layer_strided_slice_9[0][0]\n",
            "__________________________________________________________________________________________________\n",
            "tf_op_layer_Shape_6 (TensorFlow [(3,)]               0           tf_op_layer_concat_10[0][0]      \n",
            "__________________________________________________________________________________________________\n",
            "tf_op_layer_Prod_1 (TensorFlowO [()]                 0           tf_op_layer_strided_slice_5[0][0]\n",
            "__________________________________________________________________________________________________\n",
            "tf_op_layer_Shape_7 (TensorFlow [(3,)]               0           tf_op_layer_concat_10[0][0]      \n",
            "__________________________________________________________________________________________________\n",
            "tf_op_layer_Reshape_10 (TensorF [(None, None, None)] 0           tf_op_layer_GatherV2[0][0]       \n",
            "                                                                 tf_op_layer_Reshape_10/shape[0][0\n",
            "__________________________________________________________________________________________________\n",
            "tf_op_layer_strided_slice_6 (Te [(0,)]               0           tf_op_layer_Shape_6[0][0]        \n",
            "__________________________________________________________________________________________________\n",
            "tf_op_layer_concat_12/values_1  [(1,)]               0           tf_op_layer_Prod_1[0][0]         \n",
            "__________________________________________________________________________________________________\n",
            "tf_op_layer_strided_slice_7 (Te [(1,)]               0           tf_op_layer_Shape_7[0][0]        \n",
            "__________________________________________________________________________________________________\n",
            "tf_op_layer_Reshape_9 (TensorFl [(None,)]            0           tf_op_layer_GreaterEqual[0][0]   \n",
            "__________________________________________________________________________________________________\n",
            "tf_op_layer_split_5 (TensorFlow [(None, None, 2), (N 0           tf_op_layer_Reshape_10[0][0]     \n",
            "__________________________________________________________________________________________________\n",
            "tf_op_layer_concat_12 (TensorFl [(2,)]               0           tf_op_layer_strided_slice_6[0][0]\n",
            "                                                                 tf_op_layer_concat_12/values_1[0]\n",
            "                                                                 tf_op_layer_strided_slice_7[0][0]\n",
            "__________________________________________________________________________________________________\n",
            "tf_op_layer_Where_1 (TensorFlow [(None, 1)]          0           tf_op_layer_Reshape_9[0][0]      \n",
            "__________________________________________________________________________________________________\n",
            "tf_op_layer_strided_slice_13 (T [(None, None, 2)]    0           tf_op_layer_split_5[0][1]        \n",
            "__________________________________________________________________________________________________\n",
            "tf_op_layer_Reshape_8 (TensorFl [(None, 5)]          0           tf_op_layer_concat_10[0][0]      \n",
            "                                                                 tf_op_layer_concat_12[0][0]      \n",
            "__________________________________________________________________________________________________\n",
            "tf_op_layer_Squeeze_1 (TensorFl [(None,)]            0           tf_op_layer_Where_1[0][0]        \n",
            "__________________________________________________________________________________________________\n",
            "tf_op_layer_strided_slice_12 (T [(None, None, 2)]    0           tf_op_layer_split_5[0][0]        \n",
            "__________________________________________________________________________________________________\n",
            "tf_op_layer_RealDiv (TensorFlow [(None, None, 2)]    0           tf_op_layer_strided_slice_13[0][0\n",
            "__________________________________________________________________________________________________\n",
            "tf_op_layer_RealDiv_2 (TensorFl [(None, None, 2)]    0           tf_op_layer_strided_slice_13[0][0\n",
            "__________________________________________________________________________________________________\n",
            "tf_op_layer_GatherV2_1 (TensorF [(None, 5)]          0           tf_op_layer_Reshape_8[0][0]      \n",
            "                                                                 tf_op_layer_Squeeze_1[0][0]      \n",
            "__________________________________________________________________________________________________\n",
            "tf_op_layer_Sub_2 (TensorFlowOp [(None, None, 2)]    0           tf_op_layer_strided_slice_12[0][0\n",
            "                                                                 tf_op_layer_RealDiv[0][0]        \n",
            "__________________________________________________________________________________________________\n",
            "tf_op_layer_AddV2_2 (TensorFlow [(None, None, 2)]    0           tf_op_layer_strided_slice_12[0][0\n",
            "                                                                 tf_op_layer_RealDiv_2[0][0]      \n",
            "__________________________________________________________________________________________________\n",
            "tf_op_layer_Shape_10 (TensorFlo [(3,)]               0           tf_op_layer_concat_10[0][0]      \n",
            "__________________________________________________________________________________________________\n",
            "tf_op_layer_Shape_11 (TensorFlo [(2,)]               0           tf_op_layer_GatherV2_1[0][0]     \n",
            "__________________________________________________________________________________________________\n",
            "tf_op_layer_RealDiv_1 (TensorFl [(None, None, 2)]    0           tf_op_layer_Sub_2[0][0]          \n",
            "__________________________________________________________________________________________________\n",
            "tf_op_layer_RealDiv_3 (TensorFl [(None, None, 2)]    0           tf_op_layer_AddV2_2[0][0]        \n",
            "__________________________________________________________________________________________________\n",
            "tf_op_layer_strided_slice_10 (T [()]                 0           tf_op_layer_Shape_10[0][0]       \n",
            "__________________________________________________________________________________________________\n",
            "tf_op_layer_strided_slice_11 (T [()]                 0           tf_op_layer_Shape_11[0][0]       \n",
            "__________________________________________________________________________________________________\n",
            "tf_op_layer_strided_slice_14 (T [(None, None, 1)]    0           tf_op_layer_RealDiv_1[0][0]      \n",
            "__________________________________________________________________________________________________\n",
            "tf_op_layer_strided_slice_15 (T [(None, None, 1)]    0           tf_op_layer_RealDiv_1[0][0]      \n",
            "__________________________________________________________________________________________________\n",
            "tf_op_layer_strided_slice_16 (T [(None, None, 1)]    0           tf_op_layer_RealDiv_3[0][0]      \n",
            "__________________________________________________________________________________________________\n",
            "tf_op_layer_strided_slice_17 (T [(None, None, 1)]    0           tf_op_layer_RealDiv_3[0][0]      \n",
            "__________________________________________________________________________________________________\n",
            "tf_op_layer_Reshape_11/shape (T [(3,)]               0           tf_op_layer_strided_slice_10[0][0\n",
            "                                                                 tf_op_layer_strided_slice_11[0][0\n",
            "__________________________________________________________________________________________________\n",
            "tf_op_layer_concat_13 (TensorFl [(None, None, 4)]    0           tf_op_layer_strided_slice_14[0][0\n",
            "                                                                 tf_op_layer_strided_slice_15[0][0\n",
            "                                                                 tf_op_layer_strided_slice_16[0][0\n",
            "                                                                 tf_op_layer_strided_slice_17[0][0\n",
            "__________________________________________________________________________________________________\n",
            "tf_op_layer_Reshape_11 (TensorF [(None, None, None)] 0           tf_op_layer_GatherV2_1[0][0]     \n",
            "                                                                 tf_op_layer_Reshape_11/shape[0][0\n",
            "__________________________________________________________________________________________________\n",
            "tf_op_layer_concat_14 (TensorFl [(None, None, None)] 0           tf_op_layer_concat_13[0][0]      \n",
            "                                                                 tf_op_layer_Reshape_11[0][0]     \n",
            "==================================================================================================\n",
            "Total params: 5,889,564\n",
            "Trainable params: 5,883,356\n",
            "Non-trainable params: 6,208\n",
            "__________________________________________________________________________________________________\n",
            "2022-05-03 08:06:48.533193: W tensorflow/python/util/util.cc:348] Sets are not currently considered sequences, but this may change in the future, so consider avoiding using them.\n",
            "INFO:tensorflow:Assets written to: ./checkpoints/yolov4-tiny-416/assets\n",
            "I0503 08:06:59.406281 140095195744128 builder_impl.py:775] Assets written to: ./checkpoints/yolov4-tiny-416/assets\n"
          ]
        }
      ]
    },
    {
      "cell_type": "code",
      "source": [
        "!cp -r checkpoints/yolov4-tiny-416 /content/drive/MyDrive/yolov4_colab/tf/"
      ],
      "metadata": {
        "id": "a7dNXHnVyDVP"
      },
      "execution_count": null,
      "outputs": []
    },
    {
      "cell_type": "markdown",
      "source": [
        "## Convert to tflite model"
      ],
      "metadata": {
        "id": "BWF8d0qS9bdk"
      }
    },
    {
      "cell_type": "code",
      "source": [
        "!python convert_tflite.py --weights ./checkpoints/yolov4-tiny-416 --output ./checkpoints/custom-416.tflite"
      ],
      "metadata": {
        "id": "03RjzKnE9Yq7"
      },
      "execution_count": null,
      "outputs": []
    },
    {
      "cell_type": "code",
      "source": [
        "!cp checkpoints/custom-416.tflite /content/drive/MyDrive/yolov4_colab/tf/"
      ],
      "metadata": {
        "id": "sWNowrvr_eNw"
      },
      "execution_count": null,
      "outputs": []
    },
    {
      "cell_type": "markdown",
      "source": [
        "## Detect using tensorflow"
      ],
      "metadata": {
        "id": "G3Zqyqk_yfRB"
      }
    },
    {
      "cell_type": "code",
      "source": [
        "!python detect.py --weights ./checkpoints/yolov4-tiny-416 --size 416 --model yolov4 --images ./data/images/ak47_020.jpg --tiny"
      ],
      "metadata": {
        "id": "xG02kOeCyg8Q"
      },
      "execution_count": null,
      "outputs": []
    },
    {
      "cell_type": "markdown",
      "source": [
        "## Detect using tflite"
      ],
      "metadata": {
        "id": "liiw3RwiBt02"
      }
    },
    {
      "cell_type": "code",
      "source": [
        "!python detect.py --framework tflite --weights ./checkpoints/custom-416.tflite --size 416 --model yolov4 --images ./data/images/ak47_020.jpg --tiny"
      ],
      "metadata": {
        "id": "tBOU4WIUBv9p"
      },
      "execution_count": null,
      "outputs": []
    }
  ]
}